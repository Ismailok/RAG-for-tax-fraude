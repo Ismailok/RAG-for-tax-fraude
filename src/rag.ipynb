{
 "cells": [
  {
   "cell_type": "code",
   "execution_count": 1,
   "id": "8a9e4ad9-1b63-4410-8532-20a3d2c627ec",
   "metadata": {},
   "outputs": [],
   "source": [
    "import pandas as pd"
   ]
  },
  {
   "cell_type": "markdown",
   "id": "69996ee0-a524-4e6d-a133-44e675d1d73b",
   "metadata": {},
   "source": [
    "## Ingestion"
   ]
  },
  {
   "cell_type": "code",
   "execution_count": 2,
   "id": "25825f03-2d75-45e4-8623-9964110f7e03",
   "metadata": {},
   "outputs": [],
   "source": [
    "data = pd.read_csv('./data/cleaned_data.csv', sep=';')"
   ]
  },
  {
   "cell_type": "code",
   "execution_count": 3,
   "id": "994131ef-4a40-4887-981e-0c49924a335a",
   "metadata": {},
   "outputs": [
    {
     "data": {
      "text/html": [
       "<div>\n",
       "<style scoped>\n",
       "    .dataframe tbody tr th:only-of-type {\n",
       "        vertical-align: middle;\n",
       "    }\n",
       "\n",
       "    .dataframe tbody tr th {\n",
       "        vertical-align: top;\n",
       "    }\n",
       "\n",
       "    .dataframe thead th {\n",
       "        text-align: right;\n",
       "    }\n",
       "</style>\n",
       "<table border=\"1\" class=\"dataframe\">\n",
       "  <thead>\n",
       "    <tr style=\"text-align: right;\">\n",
       "      <th></th>\n",
       "      <th>id</th>\n",
       "      <th>type_d_article</th>\n",
       "      <th>numéro_de_l_article_ou_de_la_loi</th>\n",
       "      <th>description_ou_texte_complet</th>\n",
       "      <th>mots_clés_ou_sujets_abordés</th>\n",
       "      <th>date_de_publication</th>\n",
       "      <th>source</th>\n",
       "    </tr>\n",
       "  </thead>\n",
       "  <tbody>\n",
       "    <tr>\n",
       "      <th>0</th>\n",
       "      <td>0</td>\n",
       "      <td>Loi</td>\n",
       "      <td>Loi du 23 octobre 2018</td>\n",
       "      <td>La loi entend renforcer la lutte contre la fra...</td>\n",
       "      <td>fraude fiscale, fraude sociale, fraude douanière</td>\n",
       "      <td>25 octobre 2018</td>\n",
       "      <td>Légifrance</td>\n",
       "    </tr>\n",
       "    <tr>\n",
       "      <th>1</th>\n",
       "      <td>1</td>\n",
       "      <td>Loi</td>\n",
       "      <td>Loi du 23 octobre 2018</td>\n",
       "      <td>La loi a été promulguée le 23 octobre 2018. El...</td>\n",
       "      <td>fraude fiscale, fraude sociale, fraude douanière</td>\n",
       "      <td>24 octobre 2018</td>\n",
       "      <td>Journal officiel</td>\n",
       "    </tr>\n",
       "    <tr>\n",
       "      <th>2</th>\n",
       "      <td>2</td>\n",
       "      <td>Loi</td>\n",
       "      <td>Loi du 23 octobre 2018</td>\n",
       "      <td>La loi complète la loi du 10 août 2018 pour un...</td>\n",
       "      <td>fraude fiscale, fraude sociale, fraude douanière</td>\n",
       "      <td>23 octobre 2018</td>\n",
       "      <td>Légifrance</td>\n",
       "    </tr>\n",
       "    <tr>\n",
       "      <th>3</th>\n",
       "      <td>3</td>\n",
       "      <td>Loi</td>\n",
       "      <td>Loi du 23 octobre 2018</td>\n",
       "      <td>Elle prévoit la création par décret d'une \"pol...</td>\n",
       "      <td>fraude fiscale, fraude sociale, fraude douanière</td>\n",
       "      <td>23 octobre 2018</td>\n",
       "      <td>Légifrance</td>\n",
       "    </tr>\n",
       "    <tr>\n",
       "      <th>4</th>\n",
       "      <td>4</td>\n",
       "      <td>Loi</td>\n",
       "      <td>Loi du 23 octobre 2018</td>\n",
       "      <td>Le texte renforce les moyens de détection et d...</td>\n",
       "      <td>fraude fiscale, fraude sociale, fraude douanière</td>\n",
       "      <td>23 octobre 2018</td>\n",
       "      <td>Légifrance</td>\n",
       "    </tr>\n",
       "  </tbody>\n",
       "</table>\n",
       "</div>"
      ],
      "text/plain": [
       "   id type_d_article numéro_de_l_article_ou_de_la_loi  \\\n",
       "0   0            Loi           Loi du 23 octobre 2018   \n",
       "1   1            Loi           Loi du 23 octobre 2018   \n",
       "2   2            Loi           Loi du 23 octobre 2018   \n",
       "3   3            Loi           Loi du 23 octobre 2018   \n",
       "4   4            Loi           Loi du 23 octobre 2018   \n",
       "\n",
       "                        description_ou_texte_complet  \\\n",
       "0  La loi entend renforcer la lutte contre la fra...   \n",
       "1  La loi a été promulguée le 23 octobre 2018. El...   \n",
       "2  La loi complète la loi du 10 août 2018 pour un...   \n",
       "3  Elle prévoit la création par décret d'une \"pol...   \n",
       "4  Le texte renforce les moyens de détection et d...   \n",
       "\n",
       "                        mots_clés_ou_sujets_abordés date_de_publication  \\\n",
       "0  fraude fiscale, fraude sociale, fraude douanière     25 octobre 2018   \n",
       "1  fraude fiscale, fraude sociale, fraude douanière     24 octobre 2018   \n",
       "2  fraude fiscale, fraude sociale, fraude douanière     23 octobre 2018   \n",
       "3  fraude fiscale, fraude sociale, fraude douanière     23 octobre 2018   \n",
       "4  fraude fiscale, fraude sociale, fraude douanière     23 octobre 2018   \n",
       "\n",
       "             source  \n",
       "0        Légifrance  \n",
       "1  Journal officiel  \n",
       "2        Légifrance  \n",
       "3        Légifrance  \n",
       "4        Légifrance  "
      ]
     },
     "execution_count": 3,
     "metadata": {},
     "output_type": "execute_result"
    }
   ],
   "source": [
    "data.head()"
   ]
  },
  {
   "cell_type": "code",
   "execution_count": 4,
   "id": "cc399629-57f8-4af8-9ded-141c0feaa364",
   "metadata": {},
   "outputs": [
    {
     "data": {
      "text/plain": [
       "Index(['id', 'type_d_article', 'numéro_de_l_article_ou_de_la_loi',\n",
       "       'description_ou_texte_complet', 'mots_clés_ou_sujets_abordés',\n",
       "       'date_de_publication', 'source'],\n",
       "      dtype='object')"
      ]
     },
     "execution_count": 4,
     "metadata": {},
     "output_type": "execute_result"
    }
   ],
   "source": [
    "data.columns"
   ]
  },
  {
   "cell_type": "code",
   "execution_count": 5,
   "id": "c068b2da-d3a3-460c-af49-7e1ceca32fcb",
   "metadata": {},
   "outputs": [
    {
     "name": "stdout",
     "output_type": "stream",
     "text": [
      "--2024-11-20 16:15:56--  https://raw.githubusercontent.com/alexeygrigorev/minsearch/main/minsearch.py\n",
      "Resolving raw.githubusercontent.com (raw.githubusercontent.com)... 185.199.111.133, 185.199.110.133, 185.199.109.133, ...\n",
      "Connecting to raw.githubusercontent.com (raw.githubusercontent.com)|185.199.111.133|:443... connected.\n",
      "HTTP request sent, awaiting response... 200 OK\n",
      "Length: 3832 (3.7K) [text/plain]\n",
      "Saving to: ‘minsearch.py.2’\n",
      "\n",
      "minsearch.py.2      100%[===================>]   3.74K  --.-KB/s    in 0.002s  \n",
      "\n",
      "2024-11-20 16:15:56 (2.14 MB/s) - ‘minsearch.py.2’ saved [3832/3832]\n",
      "\n"
     ]
    }
   ],
   "source": [
    "!wget https://raw.githubusercontent.com/alexeygrigorev/minsearch/main/minsearch.py"
   ]
  },
  {
   "cell_type": "code",
   "execution_count": 6,
   "id": "96550a71-dcc2-46b9-8f4e-07e0b8ed304b",
   "metadata": {},
   "outputs": [
    {
     "data": {
      "text/plain": [
       "Index(['id', 'type_d_article', 'numéro_de_l_article_ou_de_la_loi',\n",
       "       'description_ou_texte_complet', 'mots_clés_ou_sujets_abordés',\n",
       "       'date_de_publication', 'source'],\n",
       "      dtype='object')"
      ]
     },
     "execution_count": 6,
     "metadata": {},
     "output_type": "execute_result"
    }
   ],
   "source": [
    "data.columns"
   ]
  },
  {
   "cell_type": "code",
   "execution_count": 7,
   "id": "4feb805d-1b15-452b-b80d-61f873557a42",
   "metadata": {},
   "outputs": [],
   "source": [
    "import minsearch\n",
    "index = minsearch.Index(\n",
    "    text_fields=['type_d_article', 'numéro_de_l_article_ou_de_la_loi',\n",
    "       'description_ou_texte_complet', 'mots_clés_ou_sujets_abordés',\n",
    "       'date_de_publication', 'source'],\n",
    "    keyword_fields=[]\n",
    ")"
   ]
  },
  {
   "cell_type": "code",
   "execution_count": 8,
   "id": "b346938a-42fd-43f6-85be-b87f2c01f513",
   "metadata": {},
   "outputs": [],
   "source": [
    "documents = data.to_dict(orient=\"records\")"
   ]
  },
  {
   "cell_type": "code",
   "execution_count": 9,
   "id": "7d4e9743-53ec-4384-a175-e2c2210fd4f6",
   "metadata": {},
   "outputs": [
    {
     "data": {
      "text/plain": [
       "<minsearch.Index at 0x7fc64a4a8c40>"
      ]
     },
     "execution_count": 9,
     "metadata": {},
     "output_type": "execute_result"
    }
   ],
   "source": [
    "index.fit(documents)"
   ]
  },
  {
   "cell_type": "code",
   "execution_count": 10,
   "id": "ba31c85a-ccda-4039-9a4f-84262afb522a",
   "metadata": {},
   "outputs": [],
   "source": [
    "query = \"Quels sont les textes des lois sur les fraudes fiscales?\""
   ]
  },
  {
   "cell_type": "code",
   "execution_count": 11,
   "id": "24a276bf-c96f-464c-8edc-d71dbaf2045f",
   "metadata": {},
   "outputs": [
    {
     "data": {
      "text/plain": [
       "[{'id': 17,\n",
       "  'type_d_article': 'Loi',\n",
       "  'numéro_de_l_article_ou_de_la_loi': 'Loi du 6 décembre 2013',\n",
       "  'description_ou_texte_complet': 'Les articles 1729 et 1741 du CGI régissent respectivement les sanctions fiscales et pénales pour des faits de fraude fiscale.',\n",
       "  'mots_clés_ou_sujets_abordés': 'fraude fiscale',\n",
       "  'date_de_publication': '6 décembre 2013',\n",
       "  'source': \"Ministère de l'Economie, des Finances et de la Relance\"},\n",
       " {'id': 20,\n",
       "  'type_d_article': 'Loi',\n",
       "  'numéro_de_l_article_ou_de_la_loi': 'Loi du 6 décembre 2013',\n",
       "  'description_ou_texte_complet': \"Encadrement du cumul. Les conditions du cumul de ces sanctions pénales et fiscales ont été encadrées par le Conseil constitutionnel qui a estimé qu'il devait être réservé aux cas les plus graves de dissimulation des sommes soumises à l'impôts. La gravité se démontre par le montant des droits éludés, la nature des agissements du contribuable ou les circonstances dans lesquelles la fraude a eu lieu.\",\n",
       "  'mots_clés_ou_sujets_abordés': 'fraude fiscale',\n",
       "  'date_de_publication': '6 décembre 2013',\n",
       "  'source': \"Ministère de l'Economie, des Finances et de la Relance\"}]"
      ]
     },
     "execution_count": 11,
     "metadata": {},
     "output_type": "execute_result"
    }
   ],
   "source": [
    "index.search(query, num_results=2)"
   ]
  },
  {
   "cell_type": "markdown",
   "id": "23dd77ea-978e-4fe3-9e9e-fb5219e726e2",
   "metadata": {},
   "source": [
    "## RAG Flow"
   ]
  },
  {
   "cell_type": "code",
   "execution_count": null,
   "id": "70737add-efb1-46cf-8812-c2ab903316d4",
   "metadata": {},
   "outputs": [],
   "source": [
    "import os \n",
    "\n",
    "os.environ[\"OPENAI_API_KEY\"] = \"YOUR_OPENAI_API_KEY\""
   ]
  },
  {
   "cell_type": "code",
   "execution_count": 13,
   "id": "31cdcf33-0eda-42b9-84de-f155887e0740",
   "metadata": {},
   "outputs": [
    {
     "data": {
      "text/plain": [
       "\"Les lois sur les fraudes fiscales varient selon les pays, mais en général, elles incluent des dispositions dans le Code des impôts et des lois pénales. Dans le cas de la France, par exemple, plusieurs textes régissent la lutte contre la fraude fiscale :\\n\\n1. **Code général des impôts (CGI)** : Ce code contient des dispositions relatives à la détermination des bases d’imposition, des obligations déclaratives et des sanctions en cas de fraude.\\n\\n2. **Code pénal** : Les articles concernant les délits économiques et financiers, en particulier les articles relatifs à la fraude fiscale, stipulent les sanctions pénales pour les comportements frauduleux.\\n\\n3. **Loi n° 2013-1117 du 6 décembre 2013** : Cette loi renforce les mesures de lutte contre la fraude fiscale, notamment en matière de sanctions.\\n\\n4. **Loi de finances** : Chaque année, des lois de finances peuvent introduire des mesures spécifiques sur la fraude fiscale.\\n\\n5. **Directive de l'Union européenne** : Certaines directives européennes visent à harmoniser la lutte contre la fraude fiscale au sein des États membres.\\n\\nSi vous souhaitez des informations plus spécifiques ou des détails sur d'autres pays, n’hésitez pas à le préciser.\""
      ]
     },
     "execution_count": 13,
     "metadata": {},
     "output_type": "execute_result"
    }
   ],
   "source": [
    "from openai import OpenAI\n",
    "client = OpenAI()\n",
    "response = client.chat.completions.create(\n",
    "    model='gpt-4o-mini',\n",
    "    messages=[{\"role\": \"user\", \"content\": query}]\n",
    ")\n",
    "\n",
    "response.choices[0].message.content"
   ]
  },
  {
   "cell_type": "code",
   "execution_count": 14,
   "id": "f92d0b17-c366-48e5-a7c8-962871afd39e",
   "metadata": {},
   "outputs": [],
   "source": [
    "def search(query):\n",
    "    boost = {}\n",
    "\n",
    "    results = index.search(\n",
    "        query=query,\n",
    "        filter_dict={},\n",
    "        boost_dict=boost,\n",
    "        num_results=10\n",
    "    )\n",
    "\n",
    "    return results"
   ]
  },
  {
   "cell_type": "code",
   "execution_count": 15,
   "id": "01c9b932-7626-49cd-8452-8371e944aea9",
   "metadata": {},
   "outputs": [],
   "source": [
    "prompt_template = \"\"\"\n",
    "You are an expert assistant in French tax law. Answer the QUESTION using only the information provided in the CONTEXT, \n",
    "which is sourced from official legal texts and databases about tax fraud in France. Provide accurate, factual answers that comply with French law. \n",
    "If the QUESTION goes beyond the information available in the CONTEXT, state that you cannot answer without additional information.\n",
    "\n",
    "QUESTION: {question}\n",
    "\n",
    "CONTEXT:\n",
    "{context}\n",
    "\"\"\".strip()\n",
    "\n",
    "entry_template = \"\"\"\n",
    "type_d_article : {type_d_article}\n",
    "numéro_de_l_article_ou_de_la_loi : {numéro_de_l_article_ou_de_la_loi}\n",
    "description_ou_texte_complet : {description_ou_texte_complet}  \n",
    "mots_clés_ou_sujets_abordés : {mots_clés_ou_sujets_abordés}\n",
    "date_de_publication : {date_de_publication}\n",
    "source : {source}\n",
    "\"\"\".strip()\n",
    "\n",
    "def build_prompt(query, search_results):\n",
    "    context = \"\"\n",
    "    \n",
    "    for doc in search_results:\n",
    "        context = context + entry_template.format(**doc) + \"\\n\\n\"\n",
    "\n",
    "    prompt = prompt_template.format(question=query, context=context).strip()\n",
    "    return prompt"
   ]
  },
  {
   "cell_type": "code",
   "execution_count": 16,
   "id": "fd270953-42d4-4a07-b8cb-718b7e36be23",
   "metadata": {},
   "outputs": [],
   "source": [
    "def llm(prompt, model='gpt-4o-mini'):\n",
    "    response = client.chat.completions.create(\n",
    "        model=model,\n",
    "        messages=[{\"role\": \"user\", \"content\": prompt}]\n",
    "    )\n",
    "    \n",
    "    return response.choices[0].message.content"
   ]
  },
  {
   "cell_type": "code",
   "execution_count": 17,
   "id": "22ae90e1-dda1-4236-9162-5556023b6f38",
   "metadata": {},
   "outputs": [],
   "source": [
    "def rag(query, model='gpt-4o-mini'):\n",
    "    search_results = search(query)\n",
    "    prompt = build_prompt(query, search_results)\n",
    "    #print(prompt)\n",
    "    answer = llm(prompt, model=model)\n",
    "    return answer"
   ]
  },
  {
   "cell_type": "code",
   "execution_count": 18,
   "id": "0bf06fdb-39aa-4959-8afc-0d3d283b5b7f",
   "metadata": {},
   "outputs": [
    {
     "name": "stdout",
     "output_type": "stream",
     "text": [
      "Les sanctions prévues pour une fraude fiscale impliquant un compte bancaire à l'étranger non déclaré sont les suivantes :\n",
      "\n",
      "1. **Peine d'emprisonnement** : L'auteur du délit de fraude fiscale peut encourir jusqu'à 5 ans d'emprisonnement, selon la loi du 14 mars 2012.\n",
      "   \n",
      "2. **Amende** : Une amende de 500 000 euros peut également être imposée pour ce délit.\n",
      "\n",
      "3. **Circonstances aggravantes** : Si la fraude est commise en bande organisée, les sanctions peuvent être portées à 7 ans d'emprisonnement et une amende de 30 000 000 euros, selon la loi du 6 décembre 2013.\n",
      "\n",
      "Ces sanctions sont applicables dans le cadre des articles 1729 et 1741 du code général des impôts (CGI), qui régissent les sanctions fiscales et pénales.\n"
     ]
    }
   ],
   "source": [
    "question = \"Quelles sont les sanctions prévues pour une fraude fiscale impliquant un compte bancaire à l'étranger non déclaré ?\"\n",
    "answer = rag(question)\n",
    "print(answer)"
   ]
  },
  {
   "cell_type": "code",
   "execution_count": 19,
   "id": "7feb18a3-7019-4778-b16f-1d5ccc037a51",
   "metadata": {},
   "outputs": [
    {
     "name": "stdout",
     "output_type": "stream",
     "text": [
      "Je ne peux pas répondre à cette question sans informations supplémentaires.\n"
     ]
    }
   ],
   "source": [
    "# une question qui n'est pas dans la base de connaissance du modele\n",
    "question = \"Quand est-ce que ce poste de data scientist/data engineer à ursaaf expire ?\"\n",
    "answer = rag(question)\n",
    "print(answer)"
   ]
  },
  {
   "cell_type": "code",
   "execution_count": 20,
   "id": "c6f57e70-46a1-4a17-9b83-05d03c839129",
   "metadata": {},
   "outputs": [
    {
     "name": "stdout",
     "output_type": "stream",
     "text": [
      "La détection d'une fraude fiscale peut être facilitée par plusieurs dispositifs établis par la législation française, notamment :\n",
      "\n",
      "1. **Dénonciation obligatoire** : La loi du 23 octobre 2018 a instauré un dispositif de dénonciation obligatoire des faits de fraude fiscale, ce qui aide à identifier plus efficacement les cas de fraude.\n",
      "\n",
      "2. **Collaboration entre l'administration fiscale et le procureur** : Depuis 2018, un dialogue accru est encouragé entre l'administration fiscale et le procureur de la République, permettant ainsi un meilleur suivi des affaires de fraude fiscale, même au-delà des plaintes formelles.\n",
      "\n",
      "3. **Poursuites et comparution sur reconnaissance préalable de culpabilité** : La loi de 2018 a étendu le recours à la comparution sur reconnaissance préalable de culpabilité pour les délits de fraude fiscale, permettant un traitement plus rapide des cas.\n",
      "\n",
      "En outre, les sanctions aggravées en cas de fraude commise en bande organisée soulignent la gravité de certains comportements frauduleux. Ce cadre légal renforcé permet aux autorités de mieux détecter et sanctionner la fraude fiscale.\n"
     ]
    }
   ],
   "source": [
    "# Questions \n",
    "question = \"COMMENT DETECTER UNE FRAUDE FISCALE ?\"\n",
    "answer = rag(question)\n",
    "print(answer)"
   ]
  },
  {
   "cell_type": "markdown",
   "id": "ee15a5c4-1edd-476a-bf67-a635f554d1d6",
   "metadata": {},
   "source": [
    "## Retrieval Evaluation"
   ]
  },
  {
   "cell_type": "code",
   "execution_count": 21,
   "id": "6689f2e2-6ca9-4c1e-867e-9364fe0b8cf9",
   "metadata": {},
   "outputs": [
    {
     "data": {
      "text/html": [
       "<div>\n",
       "<style scoped>\n",
       "    .dataframe tbody tr th:only-of-type {\n",
       "        vertical-align: middle;\n",
       "    }\n",
       "\n",
       "    .dataframe tbody tr th {\n",
       "        vertical-align: top;\n",
       "    }\n",
       "\n",
       "    .dataframe thead th {\n",
       "        text-align: right;\n",
       "    }\n",
       "</style>\n",
       "<table border=\"1\" class=\"dataframe\">\n",
       "  <thead>\n",
       "    <tr style=\"text-align: right;\">\n",
       "      <th></th>\n",
       "      <th>id</th>\n",
       "      <th>question</th>\n",
       "    </tr>\n",
       "  </thead>\n",
       "  <tbody>\n",
       "    <tr>\n",
       "      <th>0</th>\n",
       "      <td>0</td>\n",
       "      <td>Quelle est l'objectif principal de la loi du 2...</td>\n",
       "    </tr>\n",
       "    <tr>\n",
       "      <th>1</th>\n",
       "      <td>0</td>\n",
       "      <td>Quand la loi du 23 octobre 2018 a-t-elle été p...</td>\n",
       "    </tr>\n",
       "    <tr>\n",
       "      <th>2</th>\n",
       "      <td>0</td>\n",
       "      <td>Quels types de fraude sont ciblés par la loi d...</td>\n",
       "    </tr>\n",
       "    <tr>\n",
       "      <th>3</th>\n",
       "      <td>0</td>\n",
       "      <td>D'où provient l'information relative à la loi ...</td>\n",
       "    </tr>\n",
       "    <tr>\n",
       "      <th>4</th>\n",
       "      <td>0</td>\n",
       "      <td>Quel est le type de texte légal de la loi du 2...</td>\n",
       "    </tr>\n",
       "  </tbody>\n",
       "</table>\n",
       "</div>"
      ],
      "text/plain": [
       "   id                                           question\n",
       "0   0  Quelle est l'objectif principal de la loi du 2...\n",
       "1   0  Quand la loi du 23 octobre 2018 a-t-elle été p...\n",
       "2   0  Quels types de fraude sont ciblés par la loi d...\n",
       "3   0  D'où provient l'information relative à la loi ...\n",
       "4   0  Quel est le type de texte légal de la loi du 2..."
      ]
     },
     "execution_count": 21,
     "metadata": {},
     "output_type": "execute_result"
    }
   ],
   "source": [
    "df_question = pd.read_csv('./data/ground-truth-retrieval.csv')\n",
    "df_question.head()"
   ]
  },
  {
   "cell_type": "code",
   "execution_count": 22,
   "id": "7c7d5d03-bee3-412e-91ca-41904cef9528",
   "metadata": {},
   "outputs": [
    {
     "data": {
      "text/plain": [
       "{'id': 0,\n",
       " 'question': \"Quelle est l'objectif principal de la loi du 23 octobre 2018 ?\"}"
      ]
     },
     "execution_count": 22,
     "metadata": {},
     "output_type": "execute_result"
    }
   ],
   "source": [
    "ground_truth = df_question.to_dict(orient='records')\n",
    "ground_truth[0]"
   ]
  },
  {
   "cell_type": "code",
   "execution_count": 23,
   "id": "8ae49399-bff1-4f75-af85-eacf21c4778f",
   "metadata": {},
   "outputs": [],
   "source": [
    "def hit_rate(relevance_total):\n",
    "    cnt = 0\n",
    "\n",
    "    for line in relevance_total:\n",
    "        if True in line:\n",
    "            cnt = cnt + 1\n",
    "\n",
    "    return cnt / len(relevance_total)\n",
    "\n",
    "def mrr(relevance_total):\n",
    "    total_score = 0.0\n",
    "\n",
    "    for line in relevance_total:\n",
    "        for rank in range(len(line)):\n",
    "            if line[rank] == True:\n",
    "                total_score = total_score + 1 / (rank + 1)\n",
    "\n",
    "    return total_score / len(relevance_total)"
   ]
  },
  {
   "cell_type": "code",
   "execution_count": 24,
   "id": "065f9c17-108c-4368-b540-e1e50f691d34",
   "metadata": {},
   "outputs": [],
   "source": [
    "def minsearch_search(query):\n",
    "    boost = {}\n",
    "    try:\n",
    "        results = index.search(\n",
    "            query=query,\n",
    "            filter_dict={},\n",
    "            boost_dict=boost,\n",
    "            num_results=10\n",
    "        )\n",
    "    except Exception as e:\n",
    "        print(f\"Error searching for {query}: {e}\")\n",
    "        return []\n",
    "\n",
    "    return results\n"
   ]
  },
  {
   "cell_type": "code",
   "execution_count": 25,
   "id": "588ab7cb-7ec4-4249-98ad-7ef8f901ad4a",
   "metadata": {},
   "outputs": [],
   "source": [
    "def evaluate(ground_truth, search_function):\n",
    "    relevance_total = []\n",
    "\n",
    "    for q in tqdm(ground_truth):\n",
    "        doc_id = q['id']\n",
    "        results = search_function(q)\n",
    "\n",
    "        # # Afficher le résultat de la recherche pour chaque question\n",
    "        # print(f\"Query: {q['question']}\")\n",
    "        # print(f\"Results: {results}\")\n",
    "\n",
    "        # if results:\n",
    "        #     print(f\"First result structure: {results[0]}\")\n",
    "\n",
    "        # # Si aucun résultat n'est trouvé, vérifier si la recherche fonctionne correctement\n",
    "        # if not results:\n",
    "        #     print(f\"No results for query: {q['question']}\")\n",
    "\n",
    "        # Comparer les ids correctement\n",
    "        relevance = [d.get('id') == doc_id for d in results]\n",
    "        # print(f\"Relevance: {relevance}\")\n",
    "        relevance_total.append(relevance)\n",
    "\n",
    "    return {\n",
    "        'hit_rate': hit_rate(relevance_total),\n",
    "        'mrr': mrr(relevance_total),\n",
    "    }\n"
   ]
  },
  {
   "cell_type": "code",
   "execution_count": 26,
   "id": "355e8911-f388-4d40-b804-743888eda202",
   "metadata": {},
   "outputs": [],
   "source": [
    "from tqdm.auto import tqdm"
   ]
  },
  {
   "cell_type": "code",
   "execution_count": 27,
   "id": "c03cdb12-443e-474d-9492-d1f74e035332",
   "metadata": {},
   "outputs": [
    {
     "data": {
      "application/vnd.jupyter.widget-view+json": {
       "model_id": "080fdf180608489fb85b5656edaa2c8c",
       "version_major": 2,
       "version_minor": 0
      },
      "text/plain": [
       "  0%|          | 0/25 [00:00<?, ?it/s]"
      ]
     },
     "metadata": {},
     "output_type": "display_data"
    },
    {
     "data": {
      "text/plain": [
       "{'hit_rate': 0.48, 'mrr': 0.287047619047619}"
      ]
     },
     "execution_count": 27,
     "metadata": {},
     "output_type": "execute_result"
    }
   ],
   "source": [
    "evaluate(ground_truth, lambda q: minsearch_search(q['question']))"
   ]
  },
  {
   "cell_type": "markdown",
   "id": "895663f6-dbc1-472b-b326-e9913847249d",
   "metadata": {},
   "source": [
    "### Finding the best parameters"
   ]
  },
  {
   "cell_type": "code",
   "execution_count": 28,
   "id": "f23db450-a54e-485c-b735-3bddbb8db88a",
   "metadata": {},
   "outputs": [],
   "source": [
    "df_validation = df_question[:10]\n",
    "df_test = df_question[10:]"
   ]
  },
  {
   "cell_type": "code",
   "execution_count": 29,
   "id": "87ea32b0-5f5c-40ff-bf00-5eacb9bf9adc",
   "metadata": {},
   "outputs": [],
   "source": [
    "import random\n",
    "\n",
    "def simple_optimize(param_ranges, objective_function, n_iterations=10):\n",
    "    best_params = None\n",
    "    best_score = float('-inf')  # Assuming we're minimizing. Use float('-inf') if maximizing.\n",
    "\n",
    "    for _ in range(n_iterations):\n",
    "        # Generate random parameters\n",
    "        current_params = {}\n",
    "        for param, (min_val, max_val) in param_ranges.items():\n",
    "            if isinstance(min_val, int) and isinstance(max_val, int):\n",
    "                current_params[param] = random.randint(min_val, max_val)\n",
    "            else:\n",
    "                current_params[param] = random.uniform(min_val, max_val)\n",
    "        \n",
    "        # Evaluate the objective function\n",
    "        current_score = objective_function(current_params)\n",
    "        \n",
    "        # Update best if current is better\n",
    "        if current_score > best_score:  # Change to > if maximizing\n",
    "            best_score = current_score\n",
    "            best_params = current_params\n",
    "    \n",
    "    return best_params, best_score"
   ]
  },
  {
   "cell_type": "code",
   "execution_count": 30,
   "id": "cd0047a9-e097-4c38-b403-f2543b6c9938",
   "metadata": {},
   "outputs": [],
   "source": [
    "gt_val = df_validation.to_dict(orient='records')"
   ]
  },
  {
   "cell_type": "code",
   "execution_count": 31,
   "id": "3a65cd1c-516d-4f01-ae2e-2e2fa1cc8589",
   "metadata": {},
   "outputs": [],
   "source": [
    "def minsearch_search(query, boost=None):\n",
    "    if boost is None:\n",
    "        boost = {}\n",
    "\n",
    "    results = index.search(\n",
    "        query=query,\n",
    "        filter_dict={},\n",
    "        boost_dict=boost,\n",
    "        num_results=10\n",
    "    )\n",
    "\n",
    "    return results"
   ]
  },
  {
   "cell_type": "code",
   "execution_count": 32,
   "id": "20483370-c0d5-4610-a50b-3277b1e034c2",
   "metadata": {},
   "outputs": [],
   "source": [
    "param_ranges = {\n",
    "    'type_d_article': (0.0, 3.0),\n",
    "    'numéro_de_l_article_ou_de_la_loi': (0.0, 3.0),\n",
    "    'description_ou_texte_complet': (0.0, 3.0),\n",
    "    'mots_clés_ou_sujets_abordés': (0.0, 3.0),\n",
    "    'date_de_publication': (0.0, 3.0),\n",
    "    'source': (0.0, 3.0) \n",
    "}\n",
    "\n",
    "\n",
    "def objective(boost_params):\n",
    "    def search_function(q):\n",
    "        return minsearch_search(q['question'], boost_params)\n",
    "\n",
    "    results = evaluate(gt_val, search_function)\n",
    "    return results['mrr']"
   ]
  },
  {
   "cell_type": "code",
   "execution_count": 33,
   "id": "6fbdd876-c3c8-4e0f-a075-dcdacb4069be",
   "metadata": {},
   "outputs": [
    {
     "data": {
      "application/vnd.jupyter.widget-view+json": {
       "model_id": "957b7a3c9c804a97a19de90c745015c7",
       "version_major": 2,
       "version_minor": 0
      },
      "text/plain": [
       "  0%|          | 0/10 [00:00<?, ?it/s]"
      ]
     },
     "metadata": {},
     "output_type": "display_data"
    },
    {
     "data": {
      "application/vnd.jupyter.widget-view+json": {
       "model_id": "d59b04a7b158425b806e4202ae758f07",
       "version_major": 2,
       "version_minor": 0
      },
      "text/plain": [
       "  0%|          | 0/10 [00:00<?, ?it/s]"
      ]
     },
     "metadata": {},
     "output_type": "display_data"
    },
    {
     "data": {
      "application/vnd.jupyter.widget-view+json": {
       "model_id": "39e749e494204d29b1dcfe1ce056c8a4",
       "version_major": 2,
       "version_minor": 0
      },
      "text/plain": [
       "  0%|          | 0/10 [00:00<?, ?it/s]"
      ]
     },
     "metadata": {},
     "output_type": "display_data"
    },
    {
     "data": {
      "application/vnd.jupyter.widget-view+json": {
       "model_id": "87a772494f3245a58e01df3856a5880f",
       "version_major": 2,
       "version_minor": 0
      },
      "text/plain": [
       "  0%|          | 0/10 [00:00<?, ?it/s]"
      ]
     },
     "metadata": {},
     "output_type": "display_data"
    },
    {
     "data": {
      "application/vnd.jupyter.widget-view+json": {
       "model_id": "c81f4f981cde439b93848b7b9341466a",
       "version_major": 2,
       "version_minor": 0
      },
      "text/plain": [
       "  0%|          | 0/10 [00:00<?, ?it/s]"
      ]
     },
     "metadata": {},
     "output_type": "display_data"
    },
    {
     "data": {
      "application/vnd.jupyter.widget-view+json": {
       "model_id": "518fb68354424d09b5cd2a583f1e410e",
       "version_major": 2,
       "version_minor": 0
      },
      "text/plain": [
       "  0%|          | 0/10 [00:00<?, ?it/s]"
      ]
     },
     "metadata": {},
     "output_type": "display_data"
    },
    {
     "data": {
      "application/vnd.jupyter.widget-view+json": {
       "model_id": "f327d63314184cbcae4e6734b2a2532a",
       "version_major": 2,
       "version_minor": 0
      },
      "text/plain": [
       "  0%|          | 0/10 [00:00<?, ?it/s]"
      ]
     },
     "metadata": {},
     "output_type": "display_data"
    },
    {
     "data": {
      "application/vnd.jupyter.widget-view+json": {
       "model_id": "cf74478735a540eaa1fd80ee68433104",
       "version_major": 2,
       "version_minor": 0
      },
      "text/plain": [
       "  0%|          | 0/10 [00:00<?, ?it/s]"
      ]
     },
     "metadata": {},
     "output_type": "display_data"
    },
    {
     "data": {
      "application/vnd.jupyter.widget-view+json": {
       "model_id": "0f85692e094b425289748ea0b4335835",
       "version_major": 2,
       "version_minor": 0
      },
      "text/plain": [
       "  0%|          | 0/10 [00:00<?, ?it/s]"
      ]
     },
     "metadata": {},
     "output_type": "display_data"
    },
    {
     "data": {
      "application/vnd.jupyter.widget-view+json": {
       "model_id": "6e6f8da0c9774d0ca0d66546f07acf02",
       "version_major": 2,
       "version_minor": 0
      },
      "text/plain": [
       "  0%|          | 0/10 [00:00<?, ?it/s]"
      ]
     },
     "metadata": {},
     "output_type": "display_data"
    },
    {
     "data": {
      "application/vnd.jupyter.widget-view+json": {
       "model_id": "4d5778e1acb1490091f8bd16b882c28d",
       "version_major": 2,
       "version_minor": 0
      },
      "text/plain": [
       "  0%|          | 0/10 [00:00<?, ?it/s]"
      ]
     },
     "metadata": {},
     "output_type": "display_data"
    },
    {
     "data": {
      "application/vnd.jupyter.widget-view+json": {
       "model_id": "733bf7599dca42bb86178cab6f51cf64",
       "version_major": 2,
       "version_minor": 0
      },
      "text/plain": [
       "  0%|          | 0/10 [00:00<?, ?it/s]"
      ]
     },
     "metadata": {},
     "output_type": "display_data"
    },
    {
     "data": {
      "application/vnd.jupyter.widget-view+json": {
       "model_id": "ceb814055f06424897f46d95e7aa80f8",
       "version_major": 2,
       "version_minor": 0
      },
      "text/plain": [
       "  0%|          | 0/10 [00:00<?, ?it/s]"
      ]
     },
     "metadata": {},
     "output_type": "display_data"
    },
    {
     "data": {
      "application/vnd.jupyter.widget-view+json": {
       "model_id": "6314ab1b60924d9d961887281086b9f4",
       "version_major": 2,
       "version_minor": 0
      },
      "text/plain": [
       "  0%|          | 0/10 [00:00<?, ?it/s]"
      ]
     },
     "metadata": {},
     "output_type": "display_data"
    },
    {
     "data": {
      "application/vnd.jupyter.widget-view+json": {
       "model_id": "75492b1c00dd4b739c47f7367ba490b3",
       "version_major": 2,
       "version_minor": 0
      },
      "text/plain": [
       "  0%|          | 0/10 [00:00<?, ?it/s]"
      ]
     },
     "metadata": {},
     "output_type": "display_data"
    },
    {
     "data": {
      "application/vnd.jupyter.widget-view+json": {
       "model_id": "e0bb157bc71e4d128d59fc1402686303",
       "version_major": 2,
       "version_minor": 0
      },
      "text/plain": [
       "  0%|          | 0/10 [00:00<?, ?it/s]"
      ]
     },
     "metadata": {},
     "output_type": "display_data"
    },
    {
     "data": {
      "application/vnd.jupyter.widget-view+json": {
       "model_id": "9e645fb64e0240d296b6ecf2edfa5c80",
       "version_major": 2,
       "version_minor": 0
      },
      "text/plain": [
       "  0%|          | 0/10 [00:00<?, ?it/s]"
      ]
     },
     "metadata": {},
     "output_type": "display_data"
    },
    {
     "data": {
      "application/vnd.jupyter.widget-view+json": {
       "model_id": "5e122da856614559b5ca95b7985a1970",
       "version_major": 2,
       "version_minor": 0
      },
      "text/plain": [
       "  0%|          | 0/10 [00:00<?, ?it/s]"
      ]
     },
     "metadata": {},
     "output_type": "display_data"
    },
    {
     "data": {
      "application/vnd.jupyter.widget-view+json": {
       "model_id": "05db5382cf3046d2935388d7934545ff",
       "version_major": 2,
       "version_minor": 0
      },
      "text/plain": [
       "  0%|          | 0/10 [00:00<?, ?it/s]"
      ]
     },
     "metadata": {},
     "output_type": "display_data"
    },
    {
     "data": {
      "application/vnd.jupyter.widget-view+json": {
       "model_id": "0ceaa6fa13974457af97f217f682a4fb",
       "version_major": 2,
       "version_minor": 0
      },
      "text/plain": [
       "  0%|          | 0/10 [00:00<?, ?it/s]"
      ]
     },
     "metadata": {},
     "output_type": "display_data"
    },
    {
     "data": {
      "text/plain": [
       "({'type_d_article': 0.5938517881880572,\n",
       "  'numéro_de_l_article_ou_de_la_loi': 0.3625600276274884,\n",
       "  'description_ou_texte_complet': 1.3004076240628533,\n",
       "  'mots_clés_ou_sujets_abordés': 2.0447509328918176,\n",
       "  'date_de_publication': 2.753271735509114,\n",
       "  'source': 2.105413779654186},\n",
       " 0.19083333333333333)"
      ]
     },
     "execution_count": 33,
     "metadata": {},
     "output_type": "execute_result"
    }
   ],
   "source": [
    "simple_optimize(param_ranges, objective, n_iterations=20)"
   ]
  },
  {
   "cell_type": "code",
   "execution_count": 34,
   "id": "be72e3f2-7298-4a8f-b6a4-3a52c533d2de",
   "metadata": {},
   "outputs": [
    {
     "data": {
      "application/vnd.jupyter.widget-view+json": {
       "model_id": "6f127c73a78549d0bbf2dc5cc1ebf42e",
       "version_major": 2,
       "version_minor": 0
      },
      "text/plain": [
       "  0%|          | 0/25 [00:00<?, ?it/s]"
      ]
     },
     "metadata": {},
     "output_type": "display_data"
    },
    {
     "data": {
      "text/plain": [
       "{'hit_rate': 0.56, 'mrr': 0.32433333333333336}"
      ]
     },
     "execution_count": 34,
     "metadata": {},
     "output_type": "execute_result"
    }
   ],
   "source": [
    "def minsearch_improved(query):\n",
    "    boost = {\n",
    "        'type_d_article': 0.22,\n",
    "        'numéro_de_l_article_ou_de_la_loi': 0.499,\n",
    "        'description_ou_texte_complet': 1.97,\n",
    "        'mots_clés_ou_sujets_abordés': 2.60,\n",
    "        'date_de_publication': 0.80,\n",
    "        'source': 0.42\n",
    "    }\n",
    "\n",
    "    results = index.search(\n",
    "        query=query,\n",
    "        filter_dict={},\n",
    "        boost_dict=boost,\n",
    "        num_results=10\n",
    "    )\n",
    "    return results\n",
    "\n",
    "evaluate(ground_truth, lambda q: minsearch_improved(q['question']))"
   ]
  },
  {
   "cell_type": "markdown",
   "id": "33c590d5-934b-4577-9fb5-0e7cf12b771c",
   "metadata": {},
   "source": [
    "## RAG evaluation"
   ]
  },
  {
   "cell_type": "code",
   "execution_count": 35,
   "id": "60d2cc05-5f05-413b-bfff-a268d6bb7b40",
   "metadata": {},
   "outputs": [],
   "source": [
    "prompt2_template = \"\"\"\n",
    "You are an expert evaluator for a RAG system.\n",
    "Your task is to analyze the relevance of the generated answer to the given question.\n",
    "Based on the relevance of the generated answer, you will classify it\n",
    "as \"NON_RELEVANT\", \"PARTLY_RELEVANT\", or \"RELEVANT\".\n",
    "\n",
    "Here is the data for evaluation:\n",
    "\n",
    "Question: {question}\n",
    "Generated Answer: {answer_llm}\n",
    "\n",
    "Please analyze the content and context of the generated answer in relation to the question\n",
    "and provide your evaluation in parsable JSON without using code blocks:\n",
    "\n",
    "{{\n",
    "  \"Relevance\": \"NON_RELEVANT\" | \"PARTLY_RELEVANT\" | \"RELEVANT\",\n",
    "  \"Explanation\": \"[Provide a brief explanation for your evaluation]\"\n",
    "}}\n",
    "\"\"\".strip()"
   ]
  },
  {
   "cell_type": "code",
   "execution_count": 36,
   "id": "8c548177-76ff-4a71-b78c-d1e6754e6b20",
   "metadata": {},
   "outputs": [
    {
     "data": {
      "text/plain": [
       "25"
      ]
     },
     "execution_count": 36,
     "metadata": {},
     "output_type": "execute_result"
    }
   ],
   "source": [
    "len(ground_truth)"
   ]
  },
  {
   "cell_type": "code",
   "execution_count": 37,
   "id": "1483d4d7-2a69-4ac8-a4f3-941837a90fa9",
   "metadata": {},
   "outputs": [
    {
     "data": {
      "text/plain": [
       "{'id': 0,\n",
       " 'question': \"Quelle est l'objectif principal de la loi du 23 octobre 2018 ?\"}"
      ]
     },
     "execution_count": 37,
     "metadata": {},
     "output_type": "execute_result"
    }
   ],
   "source": [
    "ground_truth[0]"
   ]
  },
  {
   "cell_type": "code",
   "execution_count": 38,
   "id": "8e78bf97-4303-4e86-aa0b-ab78ccf16e65",
   "metadata": {},
   "outputs": [],
   "source": [
    "record = ground_truth[0]"
   ]
  },
  {
   "cell_type": "code",
   "execution_count": 48,
   "id": "5e541f1f-d40d-43e9-836b-eaf4e0177251",
   "metadata": {},
   "outputs": [
    {
     "name": "stdout",
     "output_type": "stream",
     "text": [
      "La loi du 23 octobre 2018 a été publiée le 23 octobre 2018.\n"
     ]
    }
   ],
   "source": [
    "print(answer_llm)"
   ]
  },
  {
   "cell_type": "code",
   "execution_count": 49,
   "id": "1e63c599-3947-4685-b4c8-2720f2a3f969",
   "metadata": {},
   "outputs": [
    {
     "name": "stdout",
     "output_type": "stream",
     "text": [
      "You are an expert evaluator for a RAG system.\n",
      "Your task is to analyze the relevance of the generated answer to the given question.\n",
      "Based on the relevance of the generated answer, you will classify it\n",
      "as \"NON_RELEVANT\", \"PARTLY_RELEVANT\", or \"RELEVANT\".\n",
      "\n",
      "Here is the data for evaluation:\n",
      "\n",
      "Question: Quand la loi du 23 octobre 2018 a-t-elle été publiée ?\n",
      "Generated Answer: La loi du 23 octobre 2018 a été publiée le 23 octobre 2018.\n",
      "\n",
      "Please analyze the content and context of the generated answer in relation to the question\n",
      "and provide your evaluation in parsable JSON without using code blocks:\n",
      "\n",
      "{\n",
      "  \"Relevance\": \"NON_RELEVANT\" | \"PARTLY_RELEVANT\" | \"RELEVANT\",\n",
      "  \"Explanation\": \"[Provide a brief explanation for your evaluation]\"\n",
      "}\n"
     ]
    }
   ],
   "source": [
    "prompt = prompt2_template.format(question=question, answer_llm=answer_llm)\n",
    "print(prompt)"
   ]
  },
  {
   "cell_type": "code",
   "execution_count": 42,
   "id": "7ce36f8f-083e-46d9-be2d-4488f38d21b0",
   "metadata": {},
   "outputs": [],
   "source": [
    "import json\n",
    "df_sample = df_question.sample(n=15, random_state=1)"
   ]
  },
  {
   "cell_type": "code",
   "execution_count": 43,
   "id": "a65b6291-1b09-42b2-b015-904c1a9b4d86",
   "metadata": {},
   "outputs": [],
   "source": [
    "sample = df_sample.to_dict(orient='records')"
   ]
  },
  {
   "cell_type": "code",
   "execution_count": 44,
   "id": "e70b0fb5-a446-48c1-bc24-fef72516cd68",
   "metadata": {},
   "outputs": [
    {
     "data": {
      "application/vnd.jupyter.widget-view+json": {
       "model_id": "83028f24af624dceade1809ebae86253",
       "version_major": 2,
       "version_minor": 0
      },
      "text/plain": [
       "  0%|          | 0/15 [00:00<?, ?it/s]"
      ]
     },
     "metadata": {},
     "output_type": "display_data"
    }
   ],
   "source": [
    "evaluations = []\n",
    "\n",
    "for record in tqdm(sample):\n",
    "    question = record['question']\n",
    "    answer_llm = rag(question) \n",
    "\n",
    "    prompt = prompt2_template.format(\n",
    "        question=question,\n",
    "        answer_llm=answer_llm\n",
    "    )\n",
    "\n",
    "    evaluation = llm(prompt)\n",
    "    evaluation = json.loads(evaluation)\n",
    "\n",
    "    evaluations.append((record, answer_llm, evaluation))"
   ]
  },
  {
   "cell_type": "code",
   "execution_count": 45,
   "id": "e8fb88ad-1014-45c5-96d4-b0689edc4d33",
   "metadata": {},
   "outputs": [],
   "source": [
    "df_eval = pd.DataFrame(evaluations, columns=['record', 'answer', 'evaluation'])\n",
    "\n",
    "df_eval['id'] = df_eval.record.apply(lambda d: d['id'])\n",
    "df_eval['question'] = df_eval.record.apply(lambda d: d['question'])\n",
    "\n",
    "df_eval['relevance'] = df_eval.evaluation.apply(lambda d: d['Relevance'])\n",
    "df_eval['explanation'] = df_eval.evaluation.apply(lambda d: d['Explanation'])\n",
    "\n",
    "del df_eval['record']\n",
    "del df_eval['evaluation']"
   ]
  },
  {
   "cell_type": "code",
   "execution_count": 46,
   "id": "f7242e6a-2809-49a2-8335-6320716617f5",
   "metadata": {},
   "outputs": [
    {
     "data": {
      "text/plain": [
       "relevance\n",
       "RELEVANT    1.0\n",
       "Name: proportion, dtype: float64"
      ]
     },
     "execution_count": 46,
     "metadata": {},
     "output_type": "execute_result"
    }
   ],
   "source": [
    "df_eval.relevance.value_counts(normalize=True)"
   ]
  },
  {
   "cell_type": "code",
   "execution_count": 47,
   "id": "04bc89de-6262-4772-89d9-da9569332357",
   "metadata": {},
   "outputs": [],
   "source": [
    "df_eval.to_csv('./data/rag-eval-gpt-4o-mini.csv', index=False)"
   ]
  },
  {
   "cell_type": "code",
   "execution_count": null,
   "id": "a30c6603-5e4f-48de-a83b-bae937e380b7",
   "metadata": {},
   "outputs": [],
   "source": []
  },
  {
   "cell_type": "code",
   "execution_count": null,
   "id": "ca58fc43-31fe-4cc8-9f87-d6c516a30a28",
   "metadata": {},
   "outputs": [],
   "source": []
  }
 ],
 "metadata": {
  "kernelspec": {
   "display_name": "Python 3 (ipykernel)",
   "language": "python",
   "name": "python3"
  },
  "language_info": {
   "codemirror_mode": {
    "name": "ipython",
    "version": 3
   },
   "file_extension": ".py",
   "mimetype": "text/x-python",
   "name": "python",
   "nbconvert_exporter": "python",
   "pygments_lexer": "ipython3",
   "version": "3.10.15"
  }
 },
 "nbformat": 4,
 "nbformat_minor": 5
}
